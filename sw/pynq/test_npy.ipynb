{
 "cells": [
  {
   "cell_type": "code",
   "execution_count": null,
   "id": "64daf98a",
   "metadata": {},
   "outputs": [
    {
     "name": "stdout",
     "output_type": "stream",
     "text": [
      "--- Hashes from PYNQ ---\n",
      "/home/xilinx/jupyter_notebooks/ring_oscillator_puf/sw/pynq/mnist_mlp_test/mnist_mlp_weights_and_biases_locked/mnist_mlp_w1.npy: 76a75a2eb723862c61c239a31a663d198a151d7ca31caa817dec35d151ea0dea\n",
      "/home/xilinx/jupyter_notebooks/ring_oscillator_puf/sw/pynq/mnist_mlp_test/mnist_mlp_weights_and_biases_locked/mnist_mlp_b1.npy: 630ffe3d16b868cda0d0117f2b9b1d6402fe44de42274d9b546fc0946cb429ec\n",
      "/home/xilinx/jupyter_notebooks/ring_oscillator_puf/sw/pynq/mnist_mlp_test/mnist_mlp_weights_and_biases_locked/mnist_mlp_w2.npy: 91c4fc37853adf09779a8af8b86676aded52fa00e7d169c8efdf988338dd3acd\n",
      "/home/xilinx/jupyter_notebooks/ring_oscillator_puf/sw/pynq/mnist_mlp_test/mnist_mlp_weights_and_biases_locked/mnist_mlp_b2.npy: 8cee5c2941ac24cfc051fde8860a7e75beb5aa55854fef9766774ee35b10ec53\n",
      "/home/xilinx/jupyter_notebooks/ring_oscillator_puf/sw/pynq/mnist_mlp_test/mnist_mlp_weights_and_biases_locked/mnist_mlp_w3.npy: 572ec0364565ae2424e7b487fb3030cd4d4bd468b40e25b0fe728be90383ce5e\n",
      "/home/xilinx/jupyter_notebooks/ring_oscillator_puf/sw/pynq/mnist_mlp_test/mnist_mlp_weights_and_biases_locked/mnist_mlp_b3.npy: bb6085071654a79aaa0cce3952b795f41c1347617e101fbba8271402b10617d9\n",
      "/home/xilinx/jupyter_notebooks/ring_oscillator_puf/sw/pynq/mnist_mlp_test/mnist_mlp_weights_and_biases_locked/mnist_mlp_w4.npy: 0d7862389c1f3e902f674ff95655df62d4e4f66b5e0d9ecdd7607bba9a9849bd\n",
      "/home/xilinx/jupyter_notebooks/ring_oscillator_puf/sw/pynq/mnist_mlp_test/mnist_mlp_weights_and_biases_locked/mnist_mlp_b4.npy: c8d302d2f31ba84f2a61a0fdfc46dc73f75545d521fd054a5891ff633dd0e159\n"
     ]
    }
   ],
   "source": [
    "import hashlib\n",
    "import os\n",
    "\n",
    "path = r'/home/xilinx/jupyter_notebooks/ring_oscillator_puf/sw/pynq/mnist_mlp_test/mnist_mlp_weights_and_biases_locked'\n",
    "\n",
    "def get_file_hash(filepath):\n",
    "    # Calculates the SHA-256 hash of a file.\n",
    "    sha256_hash = hashlib.sha256()\n",
    "    with open(filepath, \"rb\") as f:\n",
    "        # Read and update hash in chunks of 4K\n",
    "        for byte_block in iter(lambda: f.read(4096), b\"\"):\n",
    "            sha256_hash.update(byte_block)\n",
    "    return sha256_hash.hexdigest()\n",
    "\n",
    "\n",
    "files_to_check = [\n",
    "    path + r'/mnist_mlp_w1.npy', path + r'/mnist_mlp_b1.npy',\n",
    "    path + r'/mnist_mlp_w2.npy', path + r'/mnist_mlp_b2.npy',\n",
    "    path + r'/mnist_mlp_w3.npy', path + r'/mnist_mlp_b3.npy',\n",
    "    path + r'/mnist_mlp_w4.npy', path + r'/mnist_mlp_b4.npy',\n",
    "]\n",
    "\n",
    "print(\"--- Hashes from PYNQ ---\")\n",
    "for filename in files_to_check:\n",
    "    if os.path.exists(filename):\n",
    "        file_hash = get_file_hash(filename)\n",
    "        print(f\"{filename.ljust(20)}: {file_hash}\")\n",
    "    else:\n",
    "        print(f\"{filename.ljust(20)}: FILE NOT FOUND\")"
   ]
  }
 ],
 "metadata": {
  "kernelspec": {
   "display_name": "Python 3 (ipykernel)",
   "language": "python",
   "name": "python3"
  },
  "language_info": {
   "codemirror_mode": {
    "name": "ipython",
    "version": 3
   },
   "file_extension": ".py",
   "mimetype": "text/x-python",
   "name": "python",
   "nbconvert_exporter": "python",
   "pygments_lexer": "ipython3",
   "version": "3.10.4"
  }
 },
 "nbformat": 4,
 "nbformat_minor": 5
}
