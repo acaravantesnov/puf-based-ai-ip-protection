{
 "cells": [
  {
   "cell_type": "markdown",
   "id": "45d3b23c-0a5e-47d2-901f-53bcafcdbaf4",
   "metadata": {},
   "source": [
    "#### Import libraries"
   ]
  },
  {
   "cell_type": "code",
   "execution_count": null,
   "id": "a038b6ad-e9ed-4eab-a159-77284fd69a08",
   "metadata": {},
   "outputs": [],
   "source": [
    "import time\n",
    "import numpy as np\n",
    "import pandas as pd\n",
    "\n",
    "import os\n",
    "from os.path import join\n",
    "\n",
    "import pynq\n",
    "from pynq import Overlay\n",
    "\n",
    "import functions as ft\n",
    "from v2 import helper as hp"
   ]
  },
  {
   "cell_type": "markdown",
   "id": "48f65f42-fc07-4f0a-8936-7e6429fbe48c",
   "metadata": {},
   "source": [
    "#### Load overlay"
   ]
  },
  {
   "cell_type": "code",
   "execution_count": null,
   "id": "2bf16143-8f19-4ff7-85c4-ea8f0444465b",
   "metadata": {},
   "outputs": [
    {
     "name": "stdout",
     "output_type": "stream",
     "text": [
      "Loading Overlay and setting up AXI Regs IP...\n"
     ]
    },
    {
     "data": {
      "application/javascript": "\ntry {\nrequire(['notebook/js/codecell'], function(codecell) {\n  codecell.CodeCell.options_default.highlight_modes[\n      'magic_text/x-csrc'] = {'reg':[/^%%microblaze/]};\n  Jupyter.notebook.events.one('kernel_ready.Kernel', function(){\n      Jupyter.notebook.get_cells().map(function(cell){\n          if (cell.cell_type == 'code'){ cell.auto_highlight(); } }) ;\n  });\n});\n} catch (e) {};\n"
     },
     "metadata": {},
     "output_type": "display_data"
    },
    {
     "data": {
      "application/javascript": "\ntry {\nrequire(['notebook/js/codecell'], function(codecell) {\n  codecell.CodeCell.options_default.highlight_modes[\n      'magic_text/x-csrc'] = {'reg':[/^%%pybind11/]};\n  Jupyter.notebook.events.one('kernel_ready.Kernel', function(){\n      Jupyter.notebook.get_cells().map(function(cell){\n          if (cell.cell_type == 'code'){ cell.auto_highlight(); } }) ;\n  });\n});\n} catch (e) {};\n"
     },
     "metadata": {},
     "output_type": "display_data"
    },
    {
     "name": "stdout",
     "output_type": "stream",
     "text": [
      "Overlay loaded successfully.\n"
     ]
    }
   ],
   "source": [
    "print(\"Loading Overlay and setting up AXI Regs IP...\")\n",
    "\n",
    "ol = Overlay(\"/home/xilinx/jupyter_notebooks/ring_oscillator_puf/sw/pynq/v2/hwh_and_bit/design_1_wrapper.bit\")\n",
    "axi_regs_ip = ol.axi_regs_v2_0\n",
    "\n",
    "print(f\"Overlay loaded successfully.\")"
   ]
  },
  {
   "cell_type": "markdown",
   "id": "39617d2f-4cce-461a-b0ad-65c91fe3d862",
   "metadata": {},
   "source": [
    "#### Set initial state to AXI Registers"
   ]
  },
  {
   "cell_type": "code",
   "execution_count": 3,
   "id": "705da4ef-0de0-4f97-99aa-fc2fdecce843",
   "metadata": {},
   "outputs": [
    {
     "name": "stdout",
     "output_type": "stream",
     "text": [
      "Found IP: axi_regs_v2_0 at base address 0x43c00000\n",
      "Setting initial state...\n",
      "Writing value 0 to control register (slv_reg59)...\n",
      "Hardware initialization complete.\n",
      "Read back value: 0x0\n"
     ]
    }
   ],
   "source": [
    "print(f\"Found IP: axi_regs_v2_0 at base address {hex(axi_regs_ip.mmio.base_addr)}\")\n",
    "\n",
    "# AXI Regs v2 IP ================================================================================ #\n",
    "#\n",
    "# 0x00 - 0x11\t:\tlfsr ros counters\t\t-\t[R] for PS, [W] by ring_oscilaltor_puf_v2\n",
    "# 0x12 - 0x31\t:\tmain ros counters\t\t-\t[R] for PS, [W] by ring_oscilaltor_puf_v2\n",
    "# 0x32 - 0x35\t:\tpuf response\t\t\t-\t[R] for PS, [W] by ring_oscilaltor_puf_v2\n",
    "# 0x36\t\t\t:\tlfsr ros corrected\t\t-\t[R/W] for PS, [R] by ring_oscilaltor_puf_v2\n",
    "# 0x37 - 0x3A\t:\tpuf response corrected\t-\t[R/W] for PS\n",
    "#\n",
    "# 0x3B\t\t\t:\tcontrol reg\n",
    "#\n",
    "#   - Bit 0     :   reset_n                 -   [R/W]\n",
    "#   - Bit 1     :   enable                  -   [R/W]\n",
    "#   - Bit 2     :   lfsr ros counters ready -   [R]\n",
    "#   - Bit 3     :   main ros counters ready -   [R]\n",
    "#   - Bit 4     :   puf response ready      -   [R]\n",
    "#\n",
    "# =============================================================================================== #\n",
    "\n",
    "print(\"Setting initial state...\")\n",
    "# To disable enable and reset_n -> Set to \"00\" control signals register LSBs (register 0x3B) -> 0x3B * 4 = 0xEC\n",
    "print(f\"Writing value 0 to control register (slv_reg59)...\")\n",
    "axi_regs_ip.write(hp.CONTROL_REG_ADDR, 0)\n",
    "print(\"Hardware initialization complete.\")\n",
    "\n",
    "# Read back the value to confirm the write operation\n",
    "read_value = axi_regs_ip.read(hp.CONTROL_REG_ADDR)\n",
    "print(f\"Read back value: {hex(read_value)}\")"
   ]
  },
  {
   "cell_type": "markdown",
   "id": "0f2ab216-5980-4118-b25a-ef4c53b1b3b6",
   "metadata": {},
   "source": [
    "#### Get PUF data"
   ]
  },
  {
   "cell_type": "code",
   "execution_count": null,
   "id": "3bd4a0d8-01c4-4d17-adf2-0a0ebb856af3",
   "metadata": {},
   "outputs": [],
   "source": [
    "# --- Step 1: Apply System Reset ---\n",
    "axi_regs_ip.write(hp.CONTROL_REG_ADDR, 0x00000000)\n",
    "time.sleep(0.01)\n",
    "axi_regs_ip.write(hp.CONTROL_REG_ADDR, 0x00000001) ; # Enable low (disabled), reset_n high (disabled)\n",
    "#print(\"Released reset signal.\")\n",
    "\n",
    "# --- Phase 1: LFSR ROs Counter Reading ---\n",
    "# Wait for the LFSR RO counters to indicate they are ready with sampled values\n",
    "#print(\"Waiting for LFSR RO counters to be ready...\")\n",
    "while (axi_regs_ip.read(hp.CONTROL_REG_ADDR) & hp.LFSR_ROS_COUNTERS_READY_BIT_MASK) == 0:\n",
    "    time.sleep(0.001)\n",
    "# Clear the flag\n",
    "current_control_val = axi_regs_ip.read(hp.CONTROL_REG_ADDR)\n",
    "axi_regs_ip.write(hp.CONTROL_REG_ADDR, current_control_val & ~hp.LFSR_ROS_COUNTERS_READY_BIT_MASK)\n",
    "\n",
    "# Give a moment for signals to settle after ready assertion\n",
    "time.sleep(0.001)\n",
    "\n",
    "lfsr_ros_counters = []\n",
    "\n",
    "# Fetch lfsr seed AXI reg values, and get the temperature and vccint at that moment (before and after -> mean)\n",
    "lfsr_seed_vccint1 = hp.get_zynq_vccint()\n",
    "lfsr_seed_temperature1 = hp.get_zynq_temperature()\n",
    "for i in range(hp.LFSR_REG_COUNT):\n",
    "    offset = hp.LFSR_ROS_COUNTERS_ADDR + (i * 4)\n",
    "    value = axi_regs_ip.read(offset)\n",
    "    lfsr_ros_counters.append(value)\n",
    "lfsr_seed_vccint2 = hp.get_zynq_vccint()\n",
    "lfsr_seed_temperature2 = hp.get_zynq_temperature()\n",
    "\n",
    "# Compute the mean of both measurements for vccint and temperature\n",
    "lfsr_seed_vccint = (lfsr_seed_vccint1 + lfsr_seed_vccint2) / 2\n",
    "lfsr_seed_temperature = (lfsr_seed_temperature1 + lfsr_seed_temperature2) / 2\n",
    "\n",
    "# print(\"Counters data:\")\n",
    "# for value in lfsr_ros_counters:\n",
    "#     print(value)\n",
    "\n",
    "# Process LFSR RO counters into seed bits (based on comparison of pairs)\n",
    "seed_bits = []\n",
    "for i in range(0, len(lfsr_ros_counters) - 1, 2):\n",
    "    val_first = lfsr_ros_counters[i]\n",
    "    val_second = lfsr_ros_counters[i+1]\n",
    "\n",
    "    if val_second < val_first:\n",
    "        seed_bits.append('1')\n",
    "    else:\n",
    "        seed_bits.append('0')\n",
    "\n",
    "seed_bits.reverse()\n",
    "lfsr_seed_value = \"\".join(seed_bits)\n",
    "\n",
    "# print(f\"\\nLFSR seed value: 0b{lfsr_seed_value}\")\n",
    "\n",
    "# Send the corrected value for lfsr seed. The axi_regs_v2 ip sends an ack to ring_oscillator_puf_v2\n",
    "lfsr_seed_int = int(lfsr_seed_value, 2)\n",
    "axi_regs_ip.write(hp.LFSR_ROS_CORRECTED_ADDR, lfsr_seed_int) ; #!\n",
    "#print(\"LFSR counters ready signal acknowledged.\")\n",
    "\n",
    "# --- Phase 2: Main ROs Counter Reading ---\n",
    "# Enable the main ROs and counters to start accumulation for the PUF response\n",
    "#print(\"Enabling main ROs and counters...\")\n",
    "axi_regs_ip.write(hp.CONTROL_REG_ADDR, 0x00000003) ; # Enable active, reset_n inactive\n",
    "\n",
    "# Wait for the main RO counters to indicate they are ready with sampled values\n",
    "#print(\"Waiting for main RO counters to be ready...\")\n",
    "while (axi_regs_ip.read(hp.CONTROL_REG_ADDR) & hp.MAIN_ROS_COUNTERS_READY_BIT_MASK) == 0:\n",
    "    time.sleep(0.01)\n",
    "# Clear the flag\n",
    "current_control_val = axi_regs_ip.read(hp.CONTROL_REG_ADDR)\n",
    "axi_regs_ip.write(hp.CONTROL_REG_ADDR, current_control_val & ~hp.MAIN_ROS_COUNTERS_READY_BIT_MASK)\n",
    "\n",
    "main_ros_counters = []\n",
    "\n",
    "# Fetch main AXI reg values, and get the temperature at that moment\n",
    "puf_response_vccint1 = hp.get_zynq_vccint()\n",
    "puf_response_temperature1 = hp.get_zynq_temperature()\n",
    "for i in range(hp.MAIN_REG_COUNT):\n",
    "    offset = hp.MAIN_ROS_COUNTERS_ADDR + (i * 4)\n",
    "    value = axi_regs_ip.read(offset)\n",
    "    main_ros_counters.append(value)\n",
    "puf_response_vccint2 = hp.get_zynq_vccint()\n",
    "puf_response_temperature2 = hp.get_zynq_temperature()\n",
    "\n",
    "# Compute the mean of both measurements for vccint and temperature\n",
    "puf_response_vccint = (puf_response_vccint1 + puf_response_vccint2) / 2\n",
    "puf_response_temperature = (puf_response_temperature1 + puf_response_temperature2) / 2\n",
    "\n",
    "# Acknowledge to ring_oscillator_puf_v2 is sent as soon as the axi_regs_ip_v2 registers the main ros counters\n",
    "\n",
    "# --- Phase 3: Final 128-bit PUF Response Reading ---\n",
    "# Wait for the final 128-bit PUF response to be ready from the hardware\n",
    "#print(\"Waiting for final PUF response to be ready...\")\n",
    "while (axi_regs_ip.read(hp.CONTROL_REG_ADDR) & hp.PUF_RESPONSE_READY_BIT_MASK) == 0:\n",
    "    time.sleep(0.01)\n",
    "# Clear the flag, and disable the main enable once the final response is ready\n",
    "axi_regs_ip.write(hp.CONTROL_REG_ADDR, 0x00000001) ; # Enable inactive, reset_n inactive\n",
    "\n",
    "# Read the final 128-bit PUF response\n",
    "puf_response = []\n",
    "for i in range(hp.PUF_RESPONSE_REG_COUNT):\n",
    "    offset = hp.PUF_RESPONSE_ADDR + i * 4\n",
    "    puf_response.append(axi_regs_ip.read(offset))\n",
    "\n",
    "# Convert each 32-bit integer to a 32-digit binary string and join them\n",
    "puf_response_value = \"\".join(f'{val:032b}' for val in reversed(puf_response))\n",
    "\n",
    "# print(f\"128-bit PUF Response: 0b{puf_response_value}\")\n",
    "\n",
    "# Same as with main ros counters, acknowledge to ring_oscillator_puf_v2 is sent as soon as the axi_regs_ip_v2 registers the puf response values\n",
    "\n",
    "#print(\"Final PUF response ready signal acknowledged.\")\n",
    "\n",
    "puf_response_data = (puf_response_vccint, puf_response_temperature, puf_response_value)"
   ]
  },
  {
   "cell_type": "code",
   "execution_count": null,
   "id": "ecb6f00d-20d6-4751-86cd-2a3eab0cbabd",
   "metadata": {},
   "outputs": [
    {
     "name": "stdout",
     "output_type": "stream",
     "text": [
      "\n",
      "Releasing GPIO resources and resetting hardware.\n",
      "Hardware cleanup complete.\n"
     ]
    }
   ],
   "source": [
    "print(\"\\nReleasing GPIO resources and resetting hardware.\")\n",
    "# Ensure all output GPIOs are returned to a known safe state\n",
    "axi_regs_ip.write(hp.CONTROL_REG_ADDR, 0)\n",
    "\n",
    "# Release the overlay to free up hardware resources\n",
    "# This implicitly releases GPIOs and AXI drivers\n",
    "# ol.free() \n",
    "print(\"Hardware cleanup complete.\")"
   ]
  },
  {
   "cell_type": "markdown",
   "id": "c920b773-119b-4012-9194-e776d5479898",
   "metadata": {},
   "source": [
    "#### Correct response"
   ]
  },
  {
   "cell_type": "markdown",
   "id": "c1392390-1c1b-43c2-9aa9-9b5ebbce05dc",
   "metadata": {},
   "source": [
    "#### Loading PUF Response MLP Agent weights and biases"
   ]
  },
  {
   "cell_type": "code",
   "execution_count": 6,
   "id": "34bf1633-43d2-4942-93ca-0e75f8b3b896",
   "metadata": {},
   "outputs": [
    {
     "name": "stdout",
     "output_type": "stream",
     "text": [
      "Loading weights and biases from: /home/xilinx/jupyter_notebooks/ring_oscillator_puf/sw/pynq/mnist_mlp_test/puf_response_mlp_agent_weights_and_biases\n"
     ]
    }
   ],
   "source": [
    "puf_response_mlp_agent_weights_and_biases = r'/home/xilinx/jupyter_notebooks/ring_oscillator_puf/sw/pynq/mnist_mlp_test/puf_response_mlp_agent_weights_and_biases'\n",
    "print(f\"Loading weights and biases from: {puf_response_mlp_agent_weights_and_biases}\")\n",
    "\n",
    "# Load weights from .npy files\n",
    "w1 = np.load(join(puf_response_mlp_agent_weights_and_biases, 'puf_response_mlp_agent_w1.npy'))\n",
    "w2 = np.load(join(puf_response_mlp_agent_weights_and_biases, 'puf_response_mlp_agent_w2.npy'))\n",
    "w_out = np.load(join(puf_response_mlp_agent_weights_and_biases, 'puf_response_mlp_agent_w3.npy'))\n",
    "\n",
    "# Load biases from .npy files\n",
    "b1 = np.load(join(puf_response_mlp_agent_weights_and_biases, 'puf_response_mlp_agent_b1.npy'))\n",
    "b2 = np.load(join(puf_response_mlp_agent_weights_and_biases, 'puf_response_mlp_agent_b2.npy'))\n",
    "b_out = np.load(join(puf_response_mlp_agent_weights_and_biases, 'puf_response_mlp_agent_b3.npy'))\n",
    "\n",
    "# Ensure biases are 2D row vectors for broadcasting in the forward pass\n",
    "# Keras saves biases as 1D (N,), but NumPy math expects (1, N)\n",
    "b1 = b1.reshape(1, -1)\n",
    "b2 = b2.reshape(1, -1)\n",
    "b_out = b_out.reshape(1, -1)"
   ]
  },
  {
   "cell_type": "markdown",
   "id": "781b1642-a3e7-48bc-a621-1903f8f1cd2e",
   "metadata": {},
   "source": [
    "#### Correct PUF response"
   ]
  },
  {
   "cell_type": "code",
   "execution_count": null,
   "id": "deb20b2b-1975-4fc4-a09c-7fcb263ccecf",
   "metadata": {},
   "outputs": [
    {
     "name": "stdout",
     "output_type": "stream",
     "text": [
      "VccInt: 1.0235595703125\n",
      "Temperature: 54.876696777343795\n",
      "Response: 10111011010001000010001000101010000010100011011010011001001111110110011100010010000001000010100001000111100110001100100001010001\n"
     ]
    }
   ],
   "source": [
    "print(f\"VccInt: {puf_response_data[0]}\")\n",
    "print(f\"Temperature: {puf_response_data[1]}\")\n",
    "print(f\"Response: {puf_response_data[2]}\")\n",
    "response_before = hex(int(puf_response_data[2], 2))\n",
    "print(f\"Response (hex): {response_before}\")"
   ]
  },
  {
   "cell_type": "markdown",
   "id": "ed1af512-4f06-4218-a9a5-1c70ae1d6a50",
   "metadata": {},
   "source": [
    "Right now VccInt and Temperature values are not normalized. To do so, the script needs the VccInt and Temperature dataset for gettin min and max ranges, and getting a value for both between 0 and 1."
   ]
  },
  {
   "cell_type": "code",
   "execution_count": null,
   "id": "976cd202-ee83-43f3-83ac-a111a88a6366",
   "metadata": {},
   "outputs": [
    {
     "name": "stdout",
     "output_type": "stream",
     "text": [
      "Shape of the final vector: (130,)\n",
      "First 5 elements: [0.61538462 0.72534143 1.         0.         1.        ]\n",
      "Last 5 elements: [1. 0. 0. 0. 1.]\n"
     ]
    }
   ],
   "source": [
    "pynq_1_raw_data_path = r'/home/xilinx/jupyter_notebooks/ring_oscillator_puf/sw/pynq/mnist_mlp_test/raw_data/pynq_1_data.csv'\n",
    "df = pd.read_csv(pynq_1_raw_data_path, dtype=str)\n",
    "\n",
    "section = 'PUF_Response'\n",
    "\n",
    "df[f'{section}_Vccint'] = pd.to_numeric(df[f'{section}_Vccint'], errors='coerce')\n",
    "df[f'{section}_Temperature'] = pd.to_numeric(df[f'{section}_Temperature'], errors='coerce')\n",
    "\n",
    "vccint_normalized = (puf_response_data[0] - df[f'{section}_Vccint'].min()) / (df[f'{section}_Vccint'].max() - df[f'{section}_Vccint'].min())\n",
    "temperature_normalized = (puf_response_data[1] - df[f'{section}_Temperature'].min()) / (df[f'{section}_Temperature'].max() - df[f'{section}_Temperature'].min())\n",
    "\n",
    "# Convert the 128-bit string into a NumPy array of integers (0s and 1s)\n",
    "bit_string = puf_response_data[2]\n",
    "bit_array = np.array(list(bit_string), dtype=int)\n",
    "\n",
    "# Concatenate the two normalized values with the bit array\n",
    "input_vector = np.concatenate([\n",
    "    [vccint_normalized], \n",
    "    [temperature_normalized], \n",
    "    bit_array\n",
    "])\n",
    "\n",
    "# Verify the result\n",
    "print(\"Shape of the final vector:\", input_vector.shape)\n",
    "print(\"First 5 elements:\", input_vector[:5])\n",
    "print(\"Last 5 elements:\", input_vector[-5:])"
   ]
  },
  {
   "cell_type": "code",
   "execution_count": 9,
   "id": "e52a7bc6-3e53-4115-b90f-127b6f12ecc6",
   "metadata": {},
   "outputs": [],
   "source": [
    "unlock_key = ft.forward_pass_puf_response(input_vector, w1, b1, w2, b2, w_out, b_out)"
   ]
  },
  {
   "cell_type": "code",
   "execution_count": 10,
   "id": "82d0cea3-a846-4cf3-b9a8-ddddf25b9379",
   "metadata": {},
   "outputs": [
    {
     "name": "stdout",
     "output_type": "stream",
     "text": [
      "Unlock key after agent:  [[ 18.01626389 -19.21937694  18.72154119  19.50730031  17.7319477\n",
      "  -18.80423446  18.11436111  17.54001106 -18.09532394  17.10485545\n",
      "  -18.0910915  -17.36096579 -19.41690913  18.10141678 -20.26380517\n",
      "  -19.16645418 -20.67561026 -19.40113726  19.43355224 -19.32157277\n",
      "  -16.29813002 -18.23382162  19.73082725 -20.7402903  -19.66368667\n",
      "  -19.36623633  19.29189496 -17.76140926  18.34891762 -18.03606782\n",
      "   18.08992839 -17.54399191 -18.79097073 -17.98284732 -19.21643237\n",
      "  -19.81251487  16.30376307 -18.1261448   19.00995929 -19.33764088\n",
      "  -18.41149996 -18.32838911  17.06293356  17.15167973 -16.70079309\n",
      "   18.6154985   18.35038812 -18.37995167  18.69185794 -19.00984547\n",
      "  -19.07039941  16.42129643  16.87642349 -19.16046686 -19.28357916\n",
      "   17.65190318 -18.35390656 -19.41298107  16.74670201  18.10470276\n",
      "   16.09383119  16.23506084  19.46921607  17.35166045 -18.15311462\n",
      "   19.80964006  18.34032269 -19.23163132 -18.13414209  19.09617536\n",
      "   18.10426127  17.26736191 -19.61391232 -18.06231262 -21.18245691\n",
      "   16.90570896 -17.32490889 -19.22876666  16.45342634 -19.79816506\n",
      "  -17.74482121 -19.93739183 -20.90743957 -17.42206607 -19.17908308\n",
      "   16.10974032 -17.94491455 -18.18237454 -18.09987281 -18.4027632\n",
      "   19.92634215 -17.53402395  17.49164325 -17.78614644 -19.08469386\n",
      "  -17.44702494 -17.71972144  17.05606827 -17.22422822 -17.75455529\n",
      "  -19.00732316  17.89801329  16.36006977  16.72919467  17.22030507\n",
      "  -19.0134853  -16.73115884  17.34500018  17.55877379 -18.3712649\n",
      "  -16.06633633 -21.55587217  15.91679947  16.8129549  -18.92545907\n",
      "  -18.83306875  20.93563896 -17.89256436 -18.49189339 -20.05417069\n",
      "  -18.1534587   17.53977906 -19.15582253  17.96665777 -17.43097558\n",
      "  -20.25740628 -19.21187942  17.43280196]]\n"
     ]
    }
   ],
   "source": [
    "print(\"Unlock key after agent: \", unlock_key)"
   ]
  },
  {
   "cell_type": "code",
   "execution_count": null,
   "id": "ec0a00ba-123c-43aa-a879-6f77a12a3982",
   "metadata": {},
   "outputs": [
    {
     "name": "stdout",
     "output_type": "stream",
     "text": [
      "First 16 binarized bits: [1 0 1 1 1 0 1 1 0 1 0 0 0 1 0 0]\n",
      "Processed Key (list of 8 integers):\n",
      "[47940, 8746, 2614, 39231, 26386, 1064, 18328, 51281]\n",
      "\n",
      "Length of processed key: 8\n"
     ]
    }
   ],
   "source": [
    "# Flatten the key from (1, 128) to (128,)\n",
    "key_flattened = unlock_key.flatten()\n",
    "\n",
    "# Binarize the logits using a fixed threshold of 0\n",
    "binarized_bits = (key_flattened > 0).astype(int)\n",
    "\n",
    "print(\"First 16 binarized bits:\", binarized_bits[:16])\n",
    "\n",
    "bit_groups = binarized_bits.reshape(8, 16)\n",
    "\n",
    "# Convert each 16-bit group into a single integer\n",
    "unlock_key_processed = []\n",
    "for group in bit_groups:\n",
    "    # Join the bits ([1, 0, 1, ...]) into a binary string (\"101...\")\n",
    "    bit_string = \"\".join(group.astype(str))\n",
    "    # Convert the binary string into its base-10 integer equivalent\n",
    "    integer_value = int(bit_string, 2)\n",
    "    unlock_key_processed.append(integer_value)\n",
    "\n",
    "print(\"Processed Key (list of 8 integers):\")\n",
    "print(unlock_key_processed)\n",
    "print(f\"\\nLength of processed key: {len(unlock_key_processed)}\")"
   ]
  },
  {
   "cell_type": "markdown",
   "id": "2738e82e-684e-43e6-a7dd-45db291bdbb0",
   "metadata": {},
   "source": [
    "#### Loading locked MNIST weights and biases"
   ]
  },
  {
   "cell_type": "code",
   "execution_count": null,
   "id": "3641f2e8-e170-4a5d-8491-61bd3c1435b8",
   "metadata": {},
   "outputs": [
    {
     "name": "stdout",
     "output_type": "stream",
     "text": [
      "Loading weights and biases from: /home/xilinx/jupyter_notebooks/ring_oscillator_puf/sw/pynq/mnist_mlp_test/mnist_mlp_weights_and_biases_locked\n",
      "PYNQ b1 mean: 0.0070, std: 0.0342\n"
     ]
    }
   ],
   "source": [
    "mnist_mlp_weights_and_biases_locked_path = r'/home/xilinx/jupyter_notebooks/ring_oscillator_puf/sw/pynq/mnist_mlp_test/mnist_mlp_weights_and_biases_locked'\n",
    "print(f\"Loading weights and biases from: {mnist_mlp_weights_and_biases_locked_path}\")\n",
    "\n",
    "# Load weights from .npy files\n",
    "w1 = np.load(join(mnist_mlp_weights_and_biases_locked_path, 'mnist_mlp_w1.npy'))\n",
    "w2 = np.load(join(mnist_mlp_weights_and_biases_locked_path, 'mnist_mlp_w2.npy'))\n",
    "w3 = np.load(join(mnist_mlp_weights_and_biases_locked_path, 'mnist_mlp_w3.npy'))\n",
    "w_out = np.load(join(mnist_mlp_weights_and_biases_locked_path, 'mnist_mlp_w4.npy'))\n",
    "\n",
    "# Load biases from .npy files\n",
    "b1 = np.load(join(mnist_mlp_weights_and_biases_locked_path, 'mnist_mlp_b1.npy'))\n",
    "b2 = np.load(join(mnist_mlp_weights_and_biases_locked_path, 'mnist_mlp_b2.npy'))\n",
    "b3 = np.load(join(mnist_mlp_weights_and_biases_locked_path, 'mnist_mlp_b3.npy'))\n",
    "b_out = np.load(join(mnist_mlp_weights_and_biases_locked_path, 'mnist_mlp_b4.npy'))\n",
    "\n",
    "# Ensure biases are 2D row vectors for broadcasting in the forward pass\n",
    "# Keras saves biases as 1D (N,), but NumPy math expects (1, N)\n",
    "b1 = b1.reshape(1, -1)\n",
    "b2 = b2.reshape(1, -1)\n",
    "b3 = b3.reshape(1, -1)\n",
    "b_out = b_out.reshape(1, -1)"
   ]
  },
  {
   "cell_type": "markdown",
   "id": "83fb4308-173b-4f16-aedd-b7ce21de0cad",
   "metadata": {},
   "source": [
    "#### Load MNIST test dataset"
   ]
  },
  {
   "cell_type": "code",
   "execution_count": null,
   "id": "cc9b86fd-0824-46a6-9a44-bba03f82fd2d",
   "metadata": {},
   "outputs": [
    {
     "name": "stdout",
     "output_type": "stream",
     "text": [
      "\n",
      "Loading MNIST test data from binary files...\n",
      "MNIST Test Data loaded and processed:\n",
      "  x_test shape: (10000, 784), dtype: float32\n",
      "  y_test shape: (10000, 10), dtype: float64\n",
      "Data check -> Min: 0.0, Max: 1.0\n",
      "MNIST test data loaded and preprocessed.\n",
      "\n",
      "Performing forward pass with unlocked weights...\n",
      "\n",
      "Testing Accuracy (with unlocked weights): 5.34%\n"
     ]
    }
   ],
   "source": [
    "print(\"\\nLoading MNIST test data from binary files...\")\n",
    "_training_images_filepath = \"\"\n",
    "_training_labels_filepath = \"\"\n",
    "_test_images_filepath = r'/home/xilinx/jupyter_notebooks/ring_oscillator_puf/sw/pynq/mnist_mlp_test/mnist_test_data/t10k-images.idx3-ubyte'\n",
    "_test_labels_filepath = r'/home/xilinx/jupyter_notebooks/ring_oscillator_puf/sw/pynq/mnist_mlp_test/mnist_test_data/t10k-labels.idx1-ubyte'\n",
    "\n",
    "mnist_data_loader = ft.MNISTDataLoader(\n",
    "    _training_images_filepath, _training_labels_filepath,\n",
    "    _test_images_filepath, _test_labels_filepath\n",
    ")\n",
    "x_test = mnist_data_loader.x_test\n",
    "y_test_one_hot = mnist_data_loader.y_test # Store one-hot encoded labels\n",
    "    \n",
    "# For accuracy calculation, we need the integer labels, not one-hot\n",
    "y_test = np.argmax(y_test_one_hot, axis=1) \n",
    "\n",
    "# print(f\"Data check -> Min: {x_test.min()}, Max: {x_test.max()}\")\n",
    "    \n",
    "print(\"MNIST test data loaded and preprocessed.\")"
   ]
  },
  {
   "cell_type": "markdown",
   "id": "3c7bd898",
   "metadata": {},
   "source": [
    "#### Perform predictions with locked model"
   ]
  },
  {
   "cell_type": "code",
   "execution_count": null,
   "id": "9e2dae8b",
   "metadata": {},
   "outputs": [],
   "source": [
    "# --- Perform predictions ---\n",
    "print(\"\\nPerforming forward pass with unlocked weights...\")\n",
    "Y_pred = ft.forward_pass_mnist(x_test, w1, b1, w2, b2, w3, b3, w_out, b_out)\n",
    "\n",
    "# Decode predictions to class labels\n",
    "predicted_labels = np.argmax(Y_pred, axis=1)\n",
    "\n",
    "# Compute and print testing accuracy\n",
    "testing_accuracy = ft.calculate_accuracy(predicted_labels, y_test)\n",
    "\n",
    "print(f\"\\nMNIST MLP Accuracy after unlock: {testing_accuracy:.2f}%\")"
   ]
  },
  {
   "cell_type": "markdown",
   "id": "249466e3-4989-4635-a7a1-dbcab7d9111d",
   "metadata": {},
   "source": [
    "#### Unlock MNIST MLP"
   ]
  },
  {
   "cell_type": "code",
   "execution_count": null,
   "id": "62323c13-37ff-4588-bba8-293bab727e10",
   "metadata": {},
   "outputs": [
    {
     "name": "stdout",
     "output_type": "stream",
     "text": [
      "\n",
      "Unlocking weights...\n",
      "\n",
      "--- Locked Weights Stats ---\n",
      "w1 locked mean: -0.0049, std: 0.0693\n",
      "\n",
      "--- Unlocked Weights Stats ---\n",
      "w1 unlocked mean: -0.0049, std: 0.0693\n",
      "Weights unlocked successfully!\n"
     ]
    }
   ],
   "source": [
    "# Create a dictionary of weights to pass to the unlock function\n",
    "locked_weights_dict = {\n",
    "    'W1': w1,\n",
    "    'W2': w2,\n",
    "    'W3': w3,\n",
    "    'W4': w_out # Map w_out to W4 for the unlock function\n",
    "}\n",
    "\n",
    "print(\"\\nUnlocking weights...\")\n",
    "unlocked_weights = ft.unlock_weights(locked_weights_dict, unlock_key_processed)\n",
    "\n",
    "# Update the global weight variables with the unlocked versions\n",
    "w1 = unlocked_weights['W1']\n",
    "w2 = unlocked_weights['W2']\n",
    "w3 = unlocked_weights['W3']\n",
    "w_out = unlocked_weights['W4'] # Update w_out with the unlocked W4"
   ]
  },
  {
   "cell_type": "markdown",
   "id": "c1ac4611",
   "metadata": {},
   "source": [
    "#### Perform predictions with unlocked model"
   ]
  },
  {
   "cell_type": "code",
   "execution_count": null,
   "id": "5c038988",
   "metadata": {},
   "outputs": [],
   "source": [
    "# --- Perform predictions ---\n",
    "print(\"\\nPerforming forward pass with unlocked weights...\")\n",
    "Y_pred = ft.forward_pass_mnist(x_test, w1, b1, w2, b2, w3, b3, w_out, b_out)\n",
    "\n",
    "# Decode predictions to class labels\n",
    "predicted_labels = np.argmax(Y_pred, axis=1)\n",
    "\n",
    "# Compute and print testing accuracy\n",
    "testing_accuracy = ft.calculate_accuracy(predicted_labels, y_test)\n",
    "\n",
    "binary_string = \"\".join(map(str, binarized_bits))\n",
    "decimal_value = int(binary_string, 2)\n",
    "response_after = hex(decimal_value)\n",
    "print(f\"\\nResponse before: {response_before}\")\n",
    "print(f\"Response after:  {response_after}\")\n",
    "print(f\"\\nMNIST MLP Accuracy after unlock: {testing_accuracy:.2f}%\")"
   ]
  }
 ],
 "metadata": {
  "kernelspec": {
   "display_name": "Python 3 (ipykernel)",
   "language": "python",
   "name": "python3"
  },
  "language_info": {
   "codemirror_mode": {
    "name": "ipython",
    "version": 3
   },
   "file_extension": ".py",
   "mimetype": "text/x-python",
   "name": "python",
   "nbconvert_exporter": "python",
   "pygments_lexer": "ipython3",
   "version": "3.10.4"
  }
 },
 "nbformat": 4,
 "nbformat_minor": 5
}
