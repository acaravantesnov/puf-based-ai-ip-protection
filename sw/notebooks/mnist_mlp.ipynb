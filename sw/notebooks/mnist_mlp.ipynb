{
 "cells": [
  {
   "cell_type": "code",
   "execution_count": null,
   "id": "c65f6a82",
   "metadata": {},
   "outputs": [],
   "source": [
    "import os\n",
    "# print(os.getcwd())\n",
    "\n",
    "import numpy as np"
   ]
  },
  {
   "cell_type": "code",
   "execution_count": null,
   "id": "b8ce20bd",
   "metadata": {},
   "outputs": [],
   "source": [
    "\n",
    "INPUT_SIZE = 784  # 28x28\n",
    "HIDDEN_SIZES = [512, 56, 128]\n",
    "NUM_CLASSES = 10\n",
    "LEARNING_RATE = 0.01\n",
    "EPOCHS = 20\n",
    "BATCH_SIZE = 32\n",
    "WEIGHTS_AND_BIASES_PATH = r'C:\\ring_oscillator_puf\\sw\\local_pc\\models\\mlp_0\\keras'\n",
    "\n",
    "os.makedirs(WEIGHTS_AND_BIASES_PATH, exist_ok=True)"
   ]
  },
  {
   "cell_type": "code",
   "execution_count": null,
   "id": "b2019add",
   "metadata": {},
   "outputs": [],
   "source": [
    "(x_train, y_train), (x_test, y_test) = keras.datasets.mnist.load_data()\n",
    "\n",
    "# Reshape images to be flat vectors (60000, 784) and normalize to [0, 1]\n",
    "x_train = x_train.reshape(-1, INPUT_SIZE).astype(\"float32\") / 255.0\n",
    "x_test = x_test.reshape(-1, INPUT_SIZE).astype(\"float32\") / 255.0\n",
    "\n",
    "print(\"MNIST Data loaded and preprocessed with Keras:\")\n",
    "print(f\"  x_train shape: {x_train.shape}\")\n",
    "print(f\"  y_train shape: {y_train.shape}\") # Labels are integers (0-9)"
   ]
  },
  {
   "cell_type": "code",
   "execution_count": null,
   "id": "c726aaf7",
   "metadata": {},
   "outputs": [],
   "source": [
    "model = keras.Sequential([\n",
    "    # Input Layer\n",
    "    keras.layers.Dense(HIDDEN_SIZES[0], activation=\"relu\", input_shape=(INPUT_SIZE,)),\n",
    "    # Hidden Layers\n",
    "    keras.layers.Dense(HIDDEN_SIZES[1], activation=\"relu\"),\n",
    "    keras.layers.Dense(HIDDEN_SIZES[2], activation=\"relu\"),\n",
    "    # Output Layer\n",
    "    keras.layers.Dense(NUM_CLASSES, activation=\"softmax\")\n",
    "])\n",
    "\n",
    "# Print a summary of the model architecture\n",
    "model.summary()"
   ]
  },
  {
   "cell_type": "code",
   "execution_count": null,
   "id": "16dbf5e5",
   "metadata": {},
   "outputs": [],
   "source": [
    "model.compile(\n",
    "    optimizer=keras.optimizers.SGD(learning_rate=LEARNING_RATE),\n",
    "    loss=\"sparse_categorical_crossentropy\",\n",
    "    metrics=[\"accuracy\"]\n",
    ")"
   ]
  },
  {
   "cell_type": "code",
   "execution_count": null,
   "id": "4f12a2e0",
   "metadata": {},
   "outputs": [],
   "source": [
    "print(\"\\n--- Starting Training ---\")\n",
    "history = model.fit(\n",
    "    x_train,\n",
    "    y_train,\n",
    "    batch_size=BATCH_SIZE,\n",
    "    epochs=EPOCHS,\n",
    "    validation_data=(x_test, y_test)\n",
    ")\n",
    "print(\"--- Training Complete ---\")"
   ]
  },
  {
   "cell_type": "code",
   "execution_count": null,
   "id": "68027b3c",
   "metadata": {},
   "outputs": [],
   "source": [
    "test_loss, test_accuracy = model.evaluate(x_test, y_test, verbose=0)\n",
    "print(f\"\\nFinal Test Accuracy: {test_accuracy * 100:.2f}%\")"
   ]
  },
  {
   "cell_type": "code",
   "execution_count": null,
   "id": "ce78ff5b",
   "metadata": {},
   "outputs": [],
   "source": [
    "weight_names = ['w1', 'w2', 'w3', 'w_out']\n",
    "bias_names = ['b1', 'b2', 'b3', 'b_out']\n",
    "\n",
    "for i, layer in enumerate(model.layers):\n",
    "    weights, biases = layer.get_weights()\n",
    "    \n",
    "    # Save the weight matrix\n",
    "    w_path = os.path.join(WEIGHTS_AND_BIASES_PATH, f'{weight_names[i]}.npy')\n",
    "    np.save(w_path, weights)\n",
    "    \n",
    "    # Save the bias vector\n",
    "    b_path = os.path.join(WEIGHTS_AND_BIASES_PATH, f'{bias_names[i]}.npy')\n",
    "    np.save(b_path, biases)\n",
    "\n",
    "    print(f\"Saved {weight_names[i]}.npy with shape {weights.shape}\")\n",
    "    print(f\"Saved {bias_names[i]}.npy with shape {biases.shape}\")"
   ]
  }
 ],
 "metadata": {
  "kernelspec": {
   "display_name": "ring_oscillator_puf",
   "language": "python",
   "name": "python3"
  },
  "language_info": {
   "codemirror_mode": {
    "name": "ipython",
    "version": 3
   },
   "file_extension": ".py",
   "mimetype": "text/x-python",
   "name": "python",
   "nbconvert_exporter": "python",
   "pygments_lexer": "ipython3",
   "version": "3.12.0"
  }
 },
 "nbformat": 4,
 "nbformat_minor": 5
}
