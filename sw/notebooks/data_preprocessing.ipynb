{
 "cells": [
  {
   "cell_type": "code",
   "execution_count": null,
   "id": "1160d1a2",
   "metadata": {},
   "outputs": [
    {
     "name": "stdout",
     "output_type": "stream",
     "text": [
      "Processed data saved to data\\processed\\lfsr_seed_processed.csv\n",
      "Processed data saved to data\\processed\\puf_response_processed.csv\n",
      "Total samples: 22000\n",
      "Training samples: 17600\n",
      "Testing samples: 4400\n"
     ]
    }
   ],
   "source": [
    "from sklearn.model_selection import train_test_split\n",
    "from src import data_preprocessing as preproc\n",
    "\n",
    "csv_path = r'data\\raw\\v2\\pynq_1_data.csv'\n",
    "save_directory = r'data\\processed'\n",
    "\n",
    "X, y = preproc.preprocess_csv(csv_path, 0, save_dir=save_directory)['puf_response']\n",
    "\n",
    "X_train, X_test, y_train, y_test = train_test_split(X, y, test_size=0.2, random_state=42)\n",
    "\n",
    "print(\"Total samples:\", len(X))\n",
    "print(\"Training samples:\", len(X_train))\n",
    "print(\"Testing samples:\", len(X_test))"
   ]
  }
 ],
 "metadata": {
  "kernelspec": {
   "display_name": "ring_oscillator_puf",
   "language": "python",
   "name": "python3"
  },
  "language_info": {
   "codemirror_mode": {
    "name": "ipython",
    "version": 3
   },
   "file_extension": ".py",
   "mimetype": "text/x-python",
   "name": "python",
   "nbconvert_exporter": "python",
   "pygments_lexer": "ipython3",
   "version": "3.12.0"
  }
 },
 "nbformat": 4,
 "nbformat_minor": 5
}
