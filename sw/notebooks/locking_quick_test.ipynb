{
 "cells": [
  {
   "cell_type": "code",
   "execution_count": 5,
   "metadata": {},
   "outputs": [],
   "source": [
    "import os\n",
    "# print(os.getcwd())\n",
    "\n",
    "import numpy as np\n",
    "import matplotlib.pyplot as plt\n",
    "\n",
    "from src import mlp\n",
    "from src import mlplocker\n",
    "from src import mnist\n",
    "from src import config"
   ]
  },
  {
   "cell_type": "code",
   "execution_count": 6,
   "metadata": {},
   "outputs": [],
   "source": [
    "# Importing trained MLP model.\n",
    "W1 = np.load(os.path.join(config.WEIGHTS_AND_BIASES_PATH + r'\\mlp_0\\npy', 'w1.npy'))\n",
    "W2 = np.load(os.path.join(config.WEIGHTS_AND_BIASES_PATH + r'\\mlp_0\\npy', 'w2.npy'))\n",
    "W3 = np.load(os.path.join(config.WEIGHTS_AND_BIASES_PATH + r'\\mlp_0\\npy', 'w3.npy'))\n",
    "W4 = np.load(os.path.join(config.WEIGHTS_AND_BIASES_PATH + r'\\mlp_0\\npy', 'w_out.npy'))\n",
    "\n",
    "b1 = np.load(os.path.join(config.WEIGHTS_AND_BIASES_PATH + r'\\mlp_0\\npy', 'b1.npy'))\n",
    "b2 = np.load(os.path.join(config.WEIGHTS_AND_BIASES_PATH + r'\\mlp_0\\npy', 'b2.npy'))\n",
    "b3 = np.load(os.path.join(config.WEIGHTS_AND_BIASES_PATH + r'\\mlp_0\\npy', 'b3.npy'))\n",
    "b4 = np.load(os.path.join(config.WEIGHTS_AND_BIASES_PATH + r'\\mlp_0\\npy', 'b_out.npy'))"
   ]
  },
  {
   "cell_type": "markdown",
   "metadata": {},
   "source": [
    "# Logic locking"
   ]
  },
  {
   "cell_type": "code",
   "execution_count": 7,
   "metadata": {},
   "outputs": [
    {
     "name": "stdout",
     "output_type": "stream",
     "text": [
      "MNIST Data loaded and processed:\n",
      "  x_train shape: (60000, 784), dtype: float32\n",
      "  y_train shape: (60000, 10), dtype: float64\n",
      "  x_test shape: (10000, 784), dtype: float32\n",
      "  y_test shape: (10000, 10), dtype: float64\n"
     ]
    }
   ],
   "source": [
    "trained_mlp = mlp.MLP(  num_classes = config.NUM_CLASSES, learning_rate = config.LEARNING_RATE,\n",
    "                    W1 = W1, W2 = W2, W3 = W3, W4 = W4,\n",
    "                    b1 = b1, b2 = b2, b3 = b3, b4 = b4)\n",
    "mnist = mnist.MNIST(config.TRAINING_IMAGES_FILEPATH,\n",
    "              config.TRAINING_LABELS_FILEPATH,\n",
    "              config.TEST_IMAGES_FILEPATH,\n",
    "              config.TEST_LABELS_FILEPATH)\n",
    "locking = mlplocker.MLPLocker(trained_mlp)"
   ]
  },
  {
   "cell_type": "code",
   "execution_count": null,
   "metadata": {},
   "outputs": [
    {
     "name": "stdout",
     "output_type": "stream",
     "text": [
      "[ 3559  8462 10616  4883 49786 41985 58569 49246]\n",
      "Locked accuracy: 0.1135\n",
      "Unlocked accuaracy: 0.9666\n"
     ]
    }
   ],
   "source": [
    "locked_accuracies = {}\n",
    "unlocked_accuracies = {}\n",
    "tests = np.linspace(0, config.N_TESTS_PER_LL_APPROACH - 1, config.N_TESTS_PER_LL_APPROACH)\n",
    "\n",
    "locked_accuracy = np.zeros(config.N_TESTS_PER_LL_APPROACH)\n",
    "unlocked_accuracy = np.zeros(config.N_TESTS_PER_LL_APPROACH)\n",
    "\n",
    "def convert_binary_string_to_numpy_array(binary_string):\n",
    "    \"\"\"\n",
    "    Converts a 128-bit binary string into a NumPy array of 8 16-bit integer values.\n",
    "    \"\"\"\n",
    "    chunk_size = 16\n",
    "    num_chunks = 8\n",
    "    expected_length = chunk_size * num_chunks\n",
    "\n",
    "    if len(binary_string) != expected_length:\n",
    "        print(f\"Error: Input binary string must be {expected_length} bits long.\")\n",
    "        return None\n",
    "\n",
    "    integer_parts = []\n",
    "\n",
    "    for i in range(num_chunks):\n",
    "        start_index = i * chunk_size\n",
    "        end_index = start_index + chunk_size\n",
    "        binary_chunk = binary_string[start_index:end_index]\n",
    "        decimal_value = int(binary_chunk, 2)\n",
    "        integer_parts.append(decimal_value)\n",
    "\n",
    "    return np.array(integer_parts, dtype=np.uint16)\n",
    "\n",
    "fixed_binary_key = '00001101111001110010000100001110001010010111100000010011000100111100001001111010101001000000000111100100110010011100000001011110'\n",
    "LOCKING_KEY = convert_binary_string_to_numpy_array(fixed_binary_key)\n",
    "\n",
    "print(LOCKING_KEY)\n",
    "\n",
    "locking.lock(LOCKING_KEY, 'permutation_2')\n",
    "locked_accuracy = locking.test_locking(mnist.x_test, mnist.y_test)\n",
    "\n",
    "locking.unlock(LOCKING_KEY)\n",
    "unlocked_accuracy = locking.test_locking(mnist.x_test, mnist.y_test)\n",
    "    \n",
    "print(f'Locked accuracy: {locked_accuracy}')\n",
    "print(f'Unlocked accuaracy: {unlocked_accuracy}')"
   ]
  }
 ],
 "metadata": {
  "kernelspec": {
   "display_name": "base",
   "language": "python",
   "name": "python3"
  },
  "language_info": {
   "codemirror_mode": {
    "name": "ipython",
    "version": 3
   },
   "file_extension": ".py",
   "mimetype": "text/x-python",
   "name": "python",
   "nbconvert_exporter": "python",
   "pygments_lexer": "ipython3",
   "version": "3.13.5"
  }
 },
 "nbformat": 4,
 "nbformat_minor": 2
}
